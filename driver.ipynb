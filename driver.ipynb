{
 "cells": [
  {
   "cell_type": "code",
   "execution_count": 23,
   "metadata": {},
   "outputs": [],
   "source": [
    "import sys\n",
    "import requests\n",
    "import multiprocessing as mp\n",
    "import redis\n",
    "\n",
    "from flask import Flask, request\n",
    "\n",
    "def create_app(db_num):\n",
    "    app = Flask(__name__)\n",
    "    r = redis.Redis(db=db_num)\n",
    "    r.mset({\"db\": \"0\"}) \n",
    "    \n",
    "\n",
    "    @app.route(\"/get\", methods=['get'])\n",
    "    def get():\n",
    "        db = r.get(\"db\") \n",
    "        return db\n",
    "    \n",
    "    \n",
    "    @app.route(\"/set\", methods=['post'])\n",
    "    def set():\n",
    "        if len(request.form) == 0:\n",
    "            return \"400: Bad Request\"\n",
    "        item = request.form[\"item\"]\n",
    "        db = r.get(\"db\")\n",
    "        new_db = db.decode('utf-8')\n",
    "        new_db += ',' + item\n",
    "        r.mset({\"db\":new_db})\n",
    "        return \"200: OK\" \n",
    "    \n",
    "    @app.route(\"/hello\", methods=['get'])\n",
    "    def hello():\n",
    "        return \"Hello\"\n",
    "    return app\n",
    "\n",
    "\n",
    "    #app.run(debug=False, host='0.0.0.0', port=port,use_reloader=False,threaded=True)\n",
    "    \n",
    "def make_leader(app,port,db_num): \n",
    "    r = redis.Redis(db=db_num)\n",
    "    @app.route(\"/replicate\", methods=['post','get'])\n",
    "    def replicate():\n",
    "        ''' send contents to another node '''\n",
    "\n",
    "        if len(request.form) == 0:\n",
    "            return \"400: BAD Request\"\n",
    "        \n",
    "        port = request.form[\"port\"]\n",
    "        url=\"http://127.0.0.1:\"+port+\"/store\"\n",
    "        db = r.get(\"db\")\n",
    "        print(db.decode('utf-8'))\n",
    "        x = requests.post(url, data={'item': db.decode('utf-8')})\n",
    "\n",
    "        return x.text\n",
    "\n",
    "    app.run(debug=False, host='0.0.0.0', port=port,use_reloader=False,threaded=True)\n",
    "\n",
    "\n",
    "def make_follower(app,port,db_num):\n",
    "    r = redis.Redis(db=db_num)\n",
    "    @app.route(\"/store\", methods=['post'])\n",
    "    def store():\n",
    "        ''' receive db contents from another node '''\n",
    "        if len(request.form) == 0:\n",
    "            return \"400: Bad Request\"\n",
    "        \n",
    "        item = request.form[\"item\"]\n",
    "        print(\"item:\"+item)\n",
    "        r.mset({\"db\":item})\n",
    "\n",
    "        return '200: OK'\n",
    "    app.run(debug=False, host='0.0.0.0', port=port,use_reloader=False,threaded=True)\n",
    "    \n"
   ]
  },
  {
   "cell_type": "code",
   "execution_count": 24,
   "metadata": {},
   "outputs": [
    {
     "name": "stdout",
     "output_type": "stream",
     "text": [
      " * Serving Flask app \"__main__\" (lazy loading)\n",
      " * Environment: production\n",
      "   WARNING: This is a development server. Do not use it in a production deployment.\n",
      "   Use a production WSGI server instead.\n",
      " * Debug mode: off\n"
     ]
    },
    {
     "name": "stderr",
     "output_type": "stream",
     "text": [
      " * Running on http://0.0.0.0:3001/ (Press CTRL+C to quit)\n"
     ]
    },
    {
     "name": "stdout",
     "output_type": "stream",
     "text": [
      " * Serving Flask app \"__main__\" (lazy loading)\n",
      " * Environment: production\n",
      "   WARNING: This is a development server. Do not use it in a production deployment.\n",
      "   Use a production WSGI server instead.\n",
      " * Debug mode: off\n"
     ]
    },
    {
     "name": "stderr",
     "output_type": "stream",
     "text": [
      " * Running on http://0.0.0.0:3000/ (Press CTRL+C to quit)\n",
      "127.0.0.1 - - [07/Jun/2020 23:38:20] \"POST /set HTTP/1.1\" 200 -\n",
      "127.0.0.1 - - [07/Jun/2020 23:38:21] \"POST /set HTTP/1.1\" 200 -\n",
      "127.0.0.1 - - [07/Jun/2020 23:38:23] \"POST /set HTTP/1.1\" 200 -\n"
     ]
    },
    {
     "name": "stdout",
     "output_type": "stream",
     "text": [
      "0,2,3,4\n",
      "item:0,2,3,4\n"
     ]
    },
    {
     "name": "stderr",
     "output_type": "stream",
     "text": [
      "127.0.0.1 - - [07/Jun/2020 23:38:24] \"POST /store HTTP/1.1\" 200 -\n",
      "127.0.0.1 - - [07/Jun/2020 23:38:24] \"POST /replicate HTTP/1.1\" 200 -\n",
      "127.0.0.1 - - [07/Jun/2020 23:38:35] \"GET /get HTTP/1.1\" 200 -\n"
     ]
    }
   ],
   "source": [
    "servers = []\n",
    "num_servers = 2\n",
    "for i in range(num_servers):\n",
    "    app = create_app(i)\n",
    "    p = None\n",
    "    if i == num_servers - 1:\n",
    "        p = mp.Process(target=make_leader, args=(app,3000+i,i,))\n",
    "    else:\n",
    "        p = mp.Process(target=make_follower, args=(app,3000+i,i,))\n",
    "    p.start()\n",
    "    servers.append(p)"
   ]
  },
  {
   "cell_type": "code",
   "execution_count": 22,
   "metadata": {},
   "outputs": [],
   "source": [
    "for s in servers:\n",
    "    s.terminate()"
   ]
  },
  {
   "cell_type": "code",
   "execution_count": null,
   "metadata": {},
   "outputs": [],
   "source": []
  }
 ],
 "metadata": {
  "kernelspec": {
   "display_name": "Python 3",
   "language": "python",
   "name": "python3"
  },
  "language_info": {
   "codemirror_mode": {
    "name": "ipython",
    "version": 3
   },
   "file_extension": ".py",
   "mimetype": "text/x-python",
   "name": "python",
   "nbconvert_exporter": "python",
   "pygments_lexer": "ipython3",
   "version": "3.7.3"
  }
 },
 "nbformat": 4,
 "nbformat_minor": 4
}
